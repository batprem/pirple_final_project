{
 "cells": [
  {
   "cell_type": "code",
   "execution_count": 1,
   "metadata": {},
   "outputs": [],
   "source": [
    "from Casino import Player, Card, Deck"
   ]
  },
  {
   "cell_type": "code",
   "execution_count": 2,
   "metadata": {},
   "outputs": [],
   "source": [
    "deck = Deck()\n",
    "\n",
    "player_1 = Player(name=\"Prem_wait\", player_credits=5000)\n",
    "player_2 = Player(name =\"Prem_cha\", player_credits=4500)"
   ]
  },
  {
   "cell_type": "code",
   "execution_count": 3,
   "metadata": {},
   "outputs": [],
   "source": [
    "#player_1.cards_on_hands[0].__add__(player_1.cards_on_hands[1])"
   ]
  },
  {
   "cell_type": "code",
   "execution_count": 4,
   "metadata": {},
   "outputs": [],
   "source": [
    "player_1.draw_a_card(deck)\n",
    "player_1.draw_a_card(deck)\n",
    "\n",
    "player_2.draw_a_card(deck)\n",
    "player_2.draw_a_card(deck)"
   ]
  },
  {
   "cell_type": "code",
   "execution_count": 5,
   "metadata": {},
   "outputs": [
    {
     "data": {
      "text/plain": [
       "{'pips': '♣', 'index': 'A', 'indices': 'A'}"
      ]
     },
     "execution_count": 5,
     "metadata": {},
     "output_type": "execute_result"
    }
   ],
   "source": [
    "player_1.cards_on_hands[0]"
   ]
  },
  {
   "cell_type": "code",
   "execution_count": 6,
   "metadata": {},
   "outputs": [],
   "source": [
    "sum_score = sum(player_1.cards_on_hands, Card('',0))"
   ]
  },
  {
   "cell_type": "code",
   "execution_count": 7,
   "metadata": {},
   "outputs": [
    {
     "data": {
      "text/plain": [
       "('A', '2', '3')"
      ]
     },
     "execution_count": 7,
     "metadata": {},
     "output_type": "execute_result"
    }
   ],
   "source": [
    "player_1.cards_on_hands[0].index, player_1.cards_on_hands[1].index, sum_score.index"
   ]
  },
  {
   "cell_type": "code",
   "execution_count": 8,
   "metadata": {},
   "outputs": [
    {
     "data": {
      "text/plain": [
       "{'pips': '♣♣', 'index': '3', 'indices': 'A2'}"
      ]
     },
     "execution_count": 8,
     "metadata": {},
     "output_type": "execute_result"
    }
   ],
   "source": [
    "player_1.cards_on_hands[0].__add__(player_1.cards_on_hands[1])"
   ]
  },
  {
   "cell_type": "code",
   "execution_count": 27,
   "metadata": {},
   "outputs": [
    {
     "data": {
      "text/plain": [
       "2"
      ]
     },
     "execution_count": 27,
     "metadata": {},
     "output_type": "execute_result"
    }
   ],
   "source": [
    "def check_sam_lueang(sum_score):\n",
    "    indices_list = ['A']  + [str(i) for i in range(2,11)] + ['J','Q','K']\n",
    "    for index in range(11):\n",
    "        if all([i in sum_score.indices for i in indices_list[index: index+3]]):\n",
    "            return True\n",
    "    return False\n",
    "\n",
    "def check_deng(sum_score):\n",
    "    len_pips = len(sum_score.pips)\n",
    "    deng = 1\n",
    "    if len_pips == 2:\n",
    "        #Check pok\n",
    "        if int(sum_score.index) >= 8:\n",
    "            pok = True\n",
    "            if list(Counter(sum_score.indices).values())[0] == 2:\n",
    "                deng = 2\n",
    "        elif list(Counter(sum_score.pips).values())[0] == 2:\n",
    "            deng = 2\n",
    "                \n",
    "    elif len_pips == 3:\n",
    "        #Check Tong\n",
    "        if list(Counter(sum_score.indices).values())[0] == 3:\n",
    "            deng = 5\n",
    "        #Check sam lueang\n",
    "        elif check_sam_lueang(sum_score):\n",
    "            deng = 3\n",
    "    return deng\n",
    "check_deng(sum_score)\n",
    "            "
   ]
  },
  {
   "cell_type": "code",
   "execution_count": 10,
   "metadata": {},
   "outputs": [
    {
     "data": {
      "text/plain": [
       "Counter({'♣': 2})"
      ]
     },
     "execution_count": 10,
     "metadata": {},
     "output_type": "execute_result"
    }
   ],
   "source": [
    "from collections import Counter\n",
    "Counter(sum_score.pips)"
   ]
  },
  {
   "cell_type": "code",
   "execution_count": 26,
   "metadata": {},
   "outputs": [
    {
     "data": {
      "text/plain": [
       "True"
      ]
     },
     "execution_count": 26,
     "metadata": {},
     "output_type": "execute_result"
    }
   ],
   "source": [
    "list(Counter(sum_score.pips).values())[0] == 2"
   ]
  },
  {
   "cell_type": "code",
   "execution_count": 12,
   "metadata": {},
   "outputs": [
    {
     "data": {
      "text/plain": [
       "2"
      ]
     },
     "execution_count": 12,
     "metadata": {},
     "output_type": "execute_result"
    }
   ],
   "source": [
    "list(Counter(sum_score.pips).values())[0]"
   ]
  },
  {
   "cell_type": "code",
   "execution_count": 13,
   "metadata": {},
   "outputs": [
    {
     "data": {
      "text/plain": [
       "False"
      ]
     },
     "execution_count": 13,
     "metadata": {},
     "output_type": "execute_result"
    }
   ],
   "source": [
    "def check_sam_lueang(sum_score):\n",
    "    indices_list = ['A']  + [str(i) for i in range(2,11)] + ['J','Q','K']\n",
    "    for index in range(11):\n",
    "        if all([i in sum_score.indices for i in indices_list[index: index+3]]):\n",
    "            return True\n",
    "    return False\n",
    "check_sam_lueang(sum_score)"
   ]
  },
  {
   "cell_type": "code",
   "execution_count": 14,
   "metadata": {},
   "outputs": [
    {
     "data": {
      "text/plain": [
       "Counter({'1': 1, '2': 1})"
      ]
     },
     "execution_count": 14,
     "metadata": {},
     "output_type": "execute_result"
    }
   ],
   "source": [
    "Counter(sum_score.indices)"
   ]
  },
  {
   "cell_type": "code",
   "execution_count": 15,
   "metadata": {},
   "outputs": [
    {
     "data": {
      "text/plain": [
       "False"
      ]
     },
     "execution_count": 15,
     "metadata": {},
     "output_type": "execute_result"
    }
   ],
   "source": [
    "all([i in sum_score.indices for i in ['J','Q','K']])"
   ]
  },
  {
   "cell_type": "code",
   "execution_count": 23,
   "metadata": {},
   "outputs": [
    {
     "data": {
      "text/plain": [
       "True"
      ]
     },
     "execution_count": 23,
     "metadata": {},
     "output_type": "execute_result"
    }
   ],
   "source": [
    "list(Counter(sum_score.pips).values())[0] == 2"
   ]
  }
 ],
 "metadata": {
  "kernelspec": {
   "display_name": "Python 3",
   "language": "python",
   "name": "python3"
  },
  "language_info": {
   "codemirror_mode": {
    "name": "ipython",
    "version": 3
   },
   "file_extension": ".py",
   "mimetype": "text/x-python",
   "name": "python",
   "nbconvert_exporter": "python",
   "pygments_lexer": "ipython3",
   "version": "3.8.5"
  }
 },
 "nbformat": 4,
 "nbformat_minor": 2
}
