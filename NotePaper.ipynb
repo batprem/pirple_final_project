{
 "cells": [
  {
   "cell_type": "code",
   "execution_count": 1,
   "metadata": {},
   "outputs": [],
   "source": [
    "import Casino"
   ]
  },
  {
   "cell_type": "code",
   "execution_count": 2,
   "metadata": {},
   "outputs": [
    {
     "data": {
      "text/plain": [
       "'{\"x\": 1}'"
      ]
     },
     "execution_count": 2,
     "metadata": {},
     "output_type": "execute_result"
    }
   ],
   "source": [
    "import json\n",
    "json.dumps({\"x\":1})"
   ]
  },
  {
   "cell_type": "code",
   "execution_count": 3,
   "metadata": {},
   "outputs": [
    {
     "data": {
      "text/plain": [
       "{'player_id': 1, 'server_text': 'Welcome PremX! Your id is 1'}"
      ]
     },
     "execution_count": 3,
     "metadata": {},
     "output_type": "execute_result"
    }
   ],
   "source": [
    "import requests, json\n",
    "\n",
    "HEADERS = {\n",
    "  'Content-Type': 'application/json'\n",
    "}\n",
    "\n",
    "base_url = \"http://127.0.0.1:5000\"\n",
    "\n",
    "def register_player(player_name, credits):\n",
    "    url = f\"{base_url}/player-register\"\n",
    "\n",
    "    payload = json.dumps({\n",
    "                            \"player_name\":player_name,\n",
    "                            \"credits\": 5000\n",
    "                        }\n",
    "                    )\n",
    "\n",
    "\n",
    "    response = requests.request(\"POST\", url, headers=HEADERS, data=payload)\n",
    "\n",
    "    return (response.json())\n",
    "\n",
    "res = register_player(\"PremY\", 4500)\n",
    "res = register_player(\"PremX\", 4500)\n",
    "res"
   ]
  },
  {
   "cell_type": "code",
   "execution_count": 4,
   "metadata": {},
   "outputs": [
    {
     "data": {
      "text/plain": [
       "{'players': {'0': 'PremY', '1': 'PremX'},\n",
       " 'server_text': 'Here are players are in our casino'}"
      ]
     },
     "execution_count": 4,
     "metadata": {},
     "output_type": "execute_result"
    }
   ],
   "source": [
    "def get_players():\n",
    "    url = f\"{base_url}/get-players\"\n",
    "\n",
    "    payload = json.dumps({})\n",
    "\n",
    "\n",
    "    response = requests.request(\"POST\", url, headers=HEADERS, data=payload)\n",
    "\n",
    "    return (response.json())\n",
    "\n",
    "get_players()"
   ]
  },
  {
   "cell_type": "code",
   "execution_count": 5,
   "metadata": {},
   "outputs": [
    {
     "data": {
      "text/plain": [
       "{'server_text': 'No one challenge you yet'}"
      ]
     },
     "execution_count": 5,
     "metadata": {},
     "output_type": "execute_result"
    }
   ],
   "source": [
    "def check_challenge_table(**params):\n",
    "    url = f\"{base_url}/check-challenge-table\"\n",
    "\n",
    "    payload = json.dumps(params)\n",
    "\n",
    "    response = requests.request(\"POST\", url, headers=HEADERS, data=payload)\n",
    "\n",
    "    return (response.json())\n",
    "\n",
    "check_challenge_table(player_id = 1)"
   ]
  },
  {
   "cell_type": "code",
   "execution_count": 6,
   "metadata": {},
   "outputs": [
    {
     "data": {
      "text/plain": [
       "{'server_text': 'Your challenge has been placed. Wait for responses'}"
      ]
     },
     "execution_count": 6,
     "metadata": {},
     "output_type": "execute_result"
    }
   ],
   "source": [
    "def challenge_a_player(**params):\n",
    "    url = f\"{base_url}/challenges-a-player\"\n",
    "    payload = json.dumps(params)\n",
    "    response = requests.request(\"POST\", url, headers=HEADERS, data=payload)\n",
    "    return (response.json())\n",
    "\n",
    "challenge_a_player(player_id = 0, challenged_player_id = 1)"
   ]
  },
  {
   "cell_type": "code",
   "execution_count": 7,
   "metadata": {},
   "outputs": [
    {
     "data": {
      "text/plain": [
       "{'challenge_list': {'0': 'PremY'},\n",
       " 'server_text': 'choose one of these players'}"
      ]
     },
     "execution_count": 7,
     "metadata": {},
     "output_type": "execute_result"
    }
   ],
   "source": [
    "check_challenge_table(player_id = 1)"
   ]
  },
  {
   "cell_type": "code",
   "execution_count": 8,
   "metadata": {},
   "outputs": [
    {
     "data": {
      "text/plain": [
       "{'server_text': \"Let's play!\", 'start_game': True}"
      ]
     },
     "execution_count": 8,
     "metadata": {},
     "output_type": "execute_result"
    }
   ],
   "source": [
    "def response_to_challenge(**params):\n",
    "    url = f\"{base_url}/response-to-challenge\"\n",
    "    payload = json.dumps(params)\n",
    "    response = requests.request(\"POST\", url, headers=HEADERS, data=payload)\n",
    "    return (response.json())\n",
    "\n",
    "response_to_challenge(player_id=1, accept_id=0)"
   ]
  },
  {
   "cell_type": "code",
   "execution_count": 9,
   "metadata": {},
   "outputs": [
    {
     "data": {
      "text/plain": [
       "{'server_text': \"Let's play!\", 'start_game': True}"
      ]
     },
     "execution_count": 9,
     "metadata": {},
     "output_type": "execute_result"
    }
   ],
   "source": [
    "def check_players_accept_challenge(**params):\n",
    "    url = f\"{base_url}/check-players-accept-challenge\"\n",
    "    payload = json.dumps(params)\n",
    "    response = requests.request(\"POST\", url, headers=HEADERS, data=payload)\n",
    "    return (response.json())\n",
    "\n",
    "check_players_accept_challenge(player_id=0)"
   ]
  },
  {
   "cell_type": "code",
   "execution_count": 10,
   "metadata": {},
   "outputs": [],
   "source": [
    "t: str\n"
   ]
  },
  {
   "cell_type": "code",
   "execution_count": 11,
   "metadata": {},
   "outputs": [],
   "source": [
    "t = 'd'"
   ]
  },
  {
   "cell_type": "code",
   "execution_count": 12,
   "metadata": {},
   "outputs": [
    {
     "data": {
      "text/plain": [
       "True"
      ]
     },
     "execution_count": 12,
     "metadata": {},
     "output_type": "execute_result"
    }
   ],
   "source": [
    "'t' in globals()"
   ]
  }
 ],
 "metadata": {
  "kernelspec": {
   "display_name": "Python 3",
   "language": "python",
   "name": "python3"
  },
  "language_info": {
   "codemirror_mode": {
    "name": "ipython",
    "version": 3
   },
   "file_extension": ".py",
   "mimetype": "text/x-python",
   "name": "python",
   "nbconvert_exporter": "python",
   "pygments_lexer": "ipython3",
   "version": "3.8.5"
  }
 },
 "nbformat": 4,
 "nbformat_minor": 2
}
